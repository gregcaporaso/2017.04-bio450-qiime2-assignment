{
 "cells": [
  {
   "cell_type": "markdown",
   "metadata": {},
   "source": [
    "## Part 1: Learning to use QIIME 2 with the Moving Pictures of the Human Microbiome tutorial"
   ]
  },
  {
   "cell_type": "markdown",
   "metadata": {},
   "source": [
    "Read the QIIME 2 [Moving Pictures of the Human Microbiome](https://docs.qiime2.org/2020.2/tutorials/moving-pictures/) tutorial and work through the commands in this notebook. This tutorial will introduce you to using QIIME 2, and will teach you the commands that you'll need to complete parts 2 and 3 of this assignment. "
   ]
  },
  {
   "cell_type": "markdown",
   "metadata": {},
   "source": [
    "**Important**: In order to run QIIME 2 commands in this notebook, you'll need to change your kernel to `bash`. You can do this by selecting _Kernel > Change kernel > Bash_ in the menu at the top of the notebook:\n",
    "\n",
    "![Change kernel](https://github.com/gregcaporaso/bio450-qiime2-assignment/raw/master/change-kernel-to-bash.png)"
   ]
  },
  {
   "cell_type": "markdown",
   "metadata": {},
   "source": [
    "### Get started\n",
    "\n",
    "Begin by running the commands in the [Sample metadata](https://docs.qiime2.org/2020.2/tutorials/moving-pictures/#sample-metadata). The first few commands will look like the following.\n",
    "\n",
    "Tip: When the tutorial instructs you to download files, use either the `wget` or `curl` option that is provided."
   ]
  },
  {
   "cell_type": "markdown",
   "metadata": {},
   "source": [
    "First, you'll download a sample metadata file."
   ]
  },
  {
   "cell_type": "code",
   "execution_count": null,
   "metadata": {},
   "outputs": [],
   "source": [
    "wget -O \"sample-metadata.tsv\" \"https://data.qiime2.org/2020.2/tutorials/moving-pictures/sample_metadata.tsv\""
   ]
  },
  {
   "cell_type": "markdown",
   "metadata": {},
   "source": [
    "Then, you'll create a directory and download the two sequence data files to that directory."
   ]
  },
  {
   "cell_type": "code",
   "execution_count": null,
   "metadata": {},
   "outputs": [],
   "source": [
    "mkdir emp-single-end-sequences\n",
    "wget -O \"emp-single-end-sequences/barcodes.fastq.gz\" \"https://data.qiime2.org/2020.2/tutorials/moving-pictures/emp-single-end-sequences/barcodes.fastq.gz\"\n",
    "wget -O \"emp-single-end-sequences/sequences.fastq.gz\" \"https://data.qiime2.org/2020.2/tutorials/moving-pictures/emp-single-end-sequences/sequences.fastq.gz\""
   ]
  },
  {
   "cell_type": "markdown",
   "metadata": {},
   "source": [
    "Now you can run your first QIIME 2 command, which will import the sequence data that we just downloaded into a QIIME 2 artifact."
   ]
  },
  {
   "cell_type": "code",
   "execution_count": null,
   "metadata": {},
   "outputs": [],
   "source": [
    "qiime tools import \\\n",
    "  --type EMPSingleEndSequences \\\n",
    "  --input-path emp-single-end-sequences \\\n",
    "  --output-path emp-single-end-sequences.qza"
   ]
  },
  {
   "cell_type": "markdown",
   "metadata": {},
   "source": [
    "### Interacting with QIIME 2 results\n",
    "\n",
    "QIIME 2 results are always in `.qza` or `.qzv` files, which you can learn about by reading _[QIIME 2 core concepts](https://docs.qiime2.org/2020.2/concepts/)_. You can view `.qza` and `.qzv` files at [view.qiime2.org](https://view.qiime2.org). To do this, you'll:\n",
    " 1. download a `.qza` or `.qzv` file using either the scp command or an sftp client;\n",
    " 2. go to [view.qiime2.org](https://view.qiime2.org) in your web browser;\n",
    " 3. and then drag and drop the `.qza` or `.qzv` file from your computer to the [view.qiime2.org](https://view.qiime2.org)."
   ]
  },
  {
   "cell_type": "markdown",
   "metadata": {},
   "source": [
    "Try downloading the `emp-single-end-sequences.qza` file that was generated as output by the previous command, and then uploading it to [view.qiime2.org](https://view.qiime2.org). You'll primarily use [view.qiime2.org](https://view.qiime2.org) to view QIIME 2 visualizations (i.e., `.qzv` files), but take a minute to look at the *Provenance* tab for the `emp-single-end-sequences.qza` artifact on [view.qiime2.org](https://view.qiime2.org). This provides information on all of the QIIME 2 commands that were run to get to this artifact, as well as some additional information. For example, you can see how long each command took to run. How long did the `import` command take to run? "
   ]
  },
  {
   "cell_type": "markdown",
   "metadata": {},
   "source": [
    "### Work through the remainder of the tutorial (be sure to read and think through the questions as you go)\n",
    "\n",
    "Work through the rest of the *Moving Pictures of the Human Microbiome* tutorial in this notebook. As you go, answer the questions that are presented in the tutorial. (You don't need to turn those answers in, but spending time on them now will help you with Parts 2 and 3 of this assignment.)\n",
    "\n",
    "Note: You may or may not use all of the empty cells in this section. You can create more if you need them using the _\"Insert > Insert Cell Above\"_ or _\"Insert > \"Insert Cell Below\"_ menu items at the top of the Jupyter Notebook."
   ]
  },
  {
   "cell_type": "code",
   "execution_count": null,
   "metadata": {},
   "outputs": [],
   "source": []
  },
  {
   "cell_type": "code",
   "execution_count": null,
   "metadata": {},
   "outputs": [],
   "source": []
  },
  {
   "cell_type": "code",
   "execution_count": null,
   "metadata": {},
   "outputs": [],
   "source": []
  },
  {
   "cell_type": "code",
   "execution_count": null,
   "metadata": {},
   "outputs": [],
   "source": []
  },
  {
   "cell_type": "code",
   "execution_count": null,
   "metadata": {},
   "outputs": [],
   "source": []
  },
  {
   "cell_type": "code",
   "execution_count": null,
   "metadata": {},
   "outputs": [],
   "source": []
  },
  {
   "cell_type": "code",
   "execution_count": null,
   "metadata": {},
   "outputs": [],
   "source": []
  },
  {
   "cell_type": "code",
   "execution_count": null,
   "metadata": {},
   "outputs": [],
   "source": []
  },
  {
   "cell_type": "code",
   "execution_count": null,
   "metadata": {},
   "outputs": [],
   "source": []
  },
  {
   "cell_type": "code",
   "execution_count": null,
   "metadata": {},
   "outputs": [],
   "source": []
  },
  {
   "cell_type": "code",
   "execution_count": null,
   "metadata": {},
   "outputs": [],
   "source": []
  },
  {
   "cell_type": "code",
   "execution_count": null,
   "metadata": {},
   "outputs": [],
   "source": []
  },
  {
   "cell_type": "code",
   "execution_count": null,
   "metadata": {},
   "outputs": [],
   "source": []
  },
  {
   "cell_type": "code",
   "execution_count": null,
   "metadata": {},
   "outputs": [],
   "source": []
  },
  {
   "cell_type": "code",
   "execution_count": null,
   "metadata": {},
   "outputs": [],
   "source": []
  },
  {
   "cell_type": "code",
   "execution_count": null,
   "metadata": {},
   "outputs": [],
   "source": []
  },
  {
   "cell_type": "code",
   "execution_count": null,
   "metadata": {},
   "outputs": [],
   "source": []
  },
  {
   "cell_type": "code",
   "execution_count": null,
   "metadata": {},
   "outputs": [],
   "source": []
  }
 ],
 "metadata": {
  "kernelspec": {
   "display_name": "Python 3",
   "language": "python",
   "name": "python3"
  },
  "language_info": {
   "codemirror_mode": {
    "name": "ipython",
    "version": 3
   },
   "file_extension": ".py",
   "mimetype": "text/x-python",
   "name": "python",
   "nbconvert_exporter": "python",
   "pygments_lexer": "ipython3",
   "version": "3.6.7"
  }
 },
 "nbformat": 4,
 "nbformat_minor": 4
}
