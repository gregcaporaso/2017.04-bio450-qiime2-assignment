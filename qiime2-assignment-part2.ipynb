{
 "cells": [
  {
   "cell_type": "markdown",
   "metadata": {},
   "source": [
    "## Part 2: Microbiome-based forensics"
   ]
  },
  {
   "cell_type": "markdown",
   "metadata": {},
   "source": [
    "Next, you'll adapt the commands from Part 1 to perform another analysis and answer some questions. The commands will be largely the same as the ones you used before, but adapted to the following data files. \n",
    "\n",
    "**Note: you will not necessarily need to run the `ancom` steps of the Moving Pictures Tutorial to answer the questions for parts 2 or 3 of this assignment. You can run those, but be aware that they may take a long time to run if you do not perform the `qiime taxa collapse` step first.**"
   ]
  },
  {
   "cell_type": "markdown",
   "metadata": {},
   "source": [
    "**Important**: In order to run QIIME 2 commands in this notebook, you'll need to change your kernel to `bash`. You can do this by selecting _Kernel > Change kernel > Bash_ in the menu at the top of the notebook:\n",
    "\n",
    "![Change kernel](https://github.com/gregcaporaso/bio450-qiime2-assignment/raw/master/change-kernel-to-bash.png)"
   ]
  },
  {
   "cell_type": "markdown",
   "metadata": {},
   "source": [
    "### Download data\n",
    "\n",
    "Use these commands to get the appropriate files for your analysis. Because you are starting with `FeatureData[Sequence]` and `FeatureTable[Frequency]` artifacts, you will not need to use any commands that are presented before the [FeatureTable and FeatureData summaries](https://docs.qiime2.org/2020.2/tutorials/moving-pictures/#featuretable-and-featuredata-summaries) section of the Moving Pictures tutorial."
   ]
  },
  {
   "cell_type": "code",
   "execution_count": null,
   "metadata": {},
   "outputs": [],
   "source": [
    "wget -O \"forensic-rep-seqs.qza\" https://github.com/gregcaporaso/bio450-qiime2-assignment/blob/master/rep-seqs.qza?raw=true"
   ]
  },
  {
   "cell_type": "code",
   "execution_count": null,
   "metadata": {},
   "outputs": [],
   "source": [
    "wget -O \"forensic-table.qza\" https://github.com/gregcaporaso/bio450-qiime2-assignment/blob/master/table.qza?raw=true"
   ]
  },
  {
   "cell_type": "code",
   "execution_count": null,
   "metadata": {},
   "outputs": [],
   "source": [
    "wget -O \"forensic-sample-metadata.tsv\" https://raw.githubusercontent.com/gregcaporaso/bio450-qiime2-assignment/master/sample-metadata.tsv"
   ]
  },
  {
   "cell_type": "markdown",
   "metadata": {},
   "source": [
    "You will need a different trained feature classifier to assign taxonomy to the forensic data. Use the command below to download that classifier. \n",
    "\n",
    "**Note you must change the classifer `.qza` file that is being provided to the `qiime feature-classifier classify` command to be the classifier that you are downloading here. The one that you used for the Moving Pictures tutorial will not give you useful taxonomic annotation with this data.**"
   ]
  },
  {
   "cell_type": "code",
   "execution_count": null,
   "metadata": {},
   "outputs": [],
   "source": [
    "wget -O \"gg-13-8-99-full-length-nb-classifier.qza\" \"https://data.qiime2.org/2020.2/common/gg-13-8-99-nb-classifier.qza\""
   ]
  },
  {
   "cell_type": "markdown",
   "metadata": {},
   "source": [
    "### Run your analyses\n",
    "\n",
    "Use the cells below to run your analyses. \n",
    "\n",
    "Note: You may or may not use all of the empty cells in this section. You can create more if you need them using the _\"Insert > Insert Cell Above\"_ or _\"Insert > \"Insert Cell Below\"_ menu items at the top of the Jupyter Notebook."
   ]
  },
  {
   "cell_type": "code",
   "execution_count": null,
   "metadata": {},
   "outputs": [],
   "source": []
  },
  {
   "cell_type": "code",
   "execution_count": null,
   "metadata": {},
   "outputs": [],
   "source": []
  },
  {
   "cell_type": "code",
   "execution_count": null,
   "metadata": {},
   "outputs": [],
   "source": []
  },
  {
   "cell_type": "code",
   "execution_count": null,
   "metadata": {},
   "outputs": [],
   "source": []
  },
  {
   "cell_type": "code",
   "execution_count": null,
   "metadata": {},
   "outputs": [],
   "source": []
  },
  {
   "cell_type": "code",
   "execution_count": null,
   "metadata": {},
   "outputs": [],
   "source": []
  },
  {
   "cell_type": "code",
   "execution_count": null,
   "metadata": {},
   "outputs": [],
   "source": []
  },
  {
   "cell_type": "code",
   "execution_count": null,
   "metadata": {},
   "outputs": [],
   "source": []
  },
  {
   "cell_type": "code",
   "execution_count": null,
   "metadata": {},
   "outputs": [],
   "source": []
  },
  {
   "cell_type": "code",
   "execution_count": null,
   "metadata": {},
   "outputs": [],
   "source": []
  },
  {
   "cell_type": "code",
   "execution_count": null,
   "metadata": {},
   "outputs": [],
   "source": []
  },
  {
   "cell_type": "code",
   "execution_count": null,
   "metadata": {},
   "outputs": [],
   "source": []
  },
  {
   "cell_type": "code",
   "execution_count": null,
   "metadata": {},
   "outputs": [],
   "source": []
  },
  {
   "cell_type": "code",
   "execution_count": null,
   "metadata": {},
   "outputs": [],
   "source": []
  },
  {
   "cell_type": "code",
   "execution_count": null,
   "metadata": {},
   "outputs": [],
   "source": []
  },
  {
   "cell_type": "code",
   "execution_count": null,
   "metadata": {},
   "outputs": [],
   "source": []
  },
  {
   "cell_type": "code",
   "execution_count": null,
   "metadata": {},
   "outputs": [],
   "source": []
  },
  {
   "cell_type": "code",
   "execution_count": null,
   "metadata": {},
   "outputs": [],
   "source": []
  },
  {
   "cell_type": "code",
   "execution_count": null,
   "metadata": {},
   "outputs": [],
   "source": []
  }
 ],
 "metadata": {
  "kernelspec": {
   "display_name": "Python 3",
   "language": "python",
   "name": "python3"
  },
  "language_info": {
   "codemirror_mode": {
    "name": "ipython",
    "version": 3
   },
   "file_extension": ".py",
   "mimetype": "text/x-python",
   "name": "python",
   "nbconvert_exporter": "python",
   "pygments_lexer": "ipython3",
   "version": "3.6.7"
  }
 },
 "nbformat": 4,
 "nbformat_minor": 4
}
